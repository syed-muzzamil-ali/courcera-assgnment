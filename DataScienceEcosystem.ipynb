{
 "cells": [
  {
   "cell_type": "markdown",
   "id": "eae6c9e2-2935-4774-8fd8-5dc55f1bb7a8",
   "metadata": {
    "tags": []
   },
   "source": [
    " <h1>Data Science Tools and Ecosystem</h1>"
   ]
  },
  {
   "cell_type": "markdown",
   "id": "077e3d3e-59f3-4961-bf45-91081f729ef8",
   "metadata": {},
   "source": [
    "<b>intro:</b>\n",
    "In this notebook, Data Science Tools and Ecosystem are summarized.\n"
   ]
  },
  {
   "cell_type": "markdown",
   "id": "6e6cb66d-0778-444e-80b3-fbd52af1bcb9",
   "metadata": {},
   "source": [
    "Some of the commonly used libraries used by Data Scientists include:\n",
    "    <ol><li>python</li>\n",
    "    <li>R</li>\n",
    "    <li>SQL</li>\n",
    "    </ol>"
   ]
  },
  {
   "cell_type": "markdown",
   "id": "af4c84b1-89db-413d-b0b4-2dd6f57c3569",
   "metadata": {},
   "source": [
    "data science libraries:\n",
    "    <ol><li>Pandas</li>\n",
    "    <li>SciPy </li>\n",
    "    <li>NumPy</li>\n",
    "    </ol>"
   ]
  },
  {
   "cell_type": "markdown",
   "id": "fc88a530-35d7-4ede-b78c-0cc7dccedba5",
   "metadata": {},
   "source": [
    "<table>\n",
    "<th>Data Science tools<th>\n",
    "<tr>\n",
    "<td>RapidMiner</td>\n",
    "</tr>\n",
    "<tr>\n",
    "<td>Apache Hadoop</td>\n",
    "</tr>\n",
    "<tr>\n",
    "<td>Apache Spark</td>\n",
    "</tr>\n",
    "</table>"
   ]
  },
  {
   "cell_type": "markdown",
   "id": "4ca8f6d6-9fd8-4119-99c2-88780062983f",
   "metadata": {},
   "source": [
    "<h3>Below are a few examples of evaluating arithmetic expressions in Python</h3>"
   ]
  },
  {
   "cell_type": "code",
   "execution_count": 34,
   "id": "ee5c86e8-55ba-4a38-b477-d29c6438e555",
   "metadata": {},
   "outputs": [
    {
     "data": {
      "text/plain": [
       "88"
      ]
     },
     "execution_count": 34,
     "metadata": {},
     "output_type": "execute_result"
    }
   ],
   "source": [
    "25+63"
   ]
  },
  {
   "cell_type": "code",
   "execution_count": 35,
   "id": "c7eafe52-e67b-4ebf-8972-b16f06a5492f",
   "metadata": {},
   "outputs": [
    {
     "data": {
      "text/plain": [
       "17"
      ]
     },
     "execution_count": 35,
     "metadata": {},
     "output_type": "execute_result"
    }
   ],
   "source": [
    "(3*4)+5"
   ]
  },
  {
   "cell_type": "markdown",
   "id": "8ae6825a-97f8-42a9-b165-c4644fecae99",
   "metadata": {},
   "source": [
    "<h3>cell to multiply and add numbers</h3>"
   ]
  },
  {
   "cell_type": "code",
   "execution_count": 36,
   "id": "3e190026-95ce-420f-82ea-079e030e639e",
   "metadata": {},
   "outputs": [
    {
     "data": {
      "text/plain": [
       "17"
      ]
     },
     "execution_count": 36,
     "metadata": {},
     "output_type": "execute_result"
    }
   ],
   "source": [
    "(3*4)+5"
   ]
  },
  {
   "cell_type": "markdown",
   "id": "9805cf45-e6ca-4965-ace7-a4fdc60bd3ca",
   "metadata": {},
   "source": [
    "<h3>cell to convert minutes to hours<h3>"
   ]
  },
  {
   "cell_type": "code",
   "execution_count": null,
   "id": "eaa69def-9ce5-4fd8-97ea-60217187e798",
   "metadata": {},
   "outputs": [],
   "source": [
    "min=int(input('enter the minuites'))\n",
    "hours=min/60\n",
    "print(hours,'hrs')"
   ]
  },
  {
   "cell_type": "markdown",
   "id": "a3d76235-ba74-4c31-96c5-ed4dce3147cb",
   "metadata": {},
   "source": [
    "<b>Objectives</b>\n",
    "    <ul><li>data is first</li>\n",
    "    <li>need good story telling skills </li>\n",
    "    <li>be enthusiasts</li>\n",
    "    </ul>"
   ]
  },
  {
   "cell_type": "markdown",
   "id": "1c06ace6-7e93-4874-92c0-770c7bacd54f",
   "metadata": {},
   "source": [
    "<h2>Author</h2> Syed Muzzamil Ali "
   ]
  }
 ],
 "metadata": {
  "kernelspec": {
   "display_name": "Python 3 (ipykernel)",
   "language": "python",
   "name": "python3"
  },
  "language_info": {
   "codemirror_mode": {
    "name": "ipython",
    "version": 3
   },
   "file_extension": ".py",
   "mimetype": "text/x-python",
   "name": "python",
   "nbconvert_exporter": "python",
   "pygments_lexer": "ipython3",
   "version": "3.10.9"
  }
 },
 "nbformat": 4,
 "nbformat_minor": 5
}
